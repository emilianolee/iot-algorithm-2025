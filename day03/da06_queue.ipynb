{
 "cells": [
  {
   "cell_type": "markdown",
   "metadata": {},
   "source": [
    "### Queue 큐\n",
    "<img src=\"https://upload.wikimedia.org/wikipedia/commons/thumb/5/52/Data_Queue.svg/1024px-Data_Queue.svg.png\" width=\"300\">\n",
    "\n",
    "- 입구와 출구가 정반대에 위치한 데이터 구조\n",
    "- 먼저 들어간 데이터가 먼저 나옴\n",
    "    - FIFO(First In Frist Out)\n",
    "-동작\n",
    "    - enQueue : 데이터 삽입\n",
    "    - enQueue : 데이터 삽입\n",
    "    - front : 맨 앞 데이터\n",
    "    - rear : 맨 뒤 데이터"
   ]
  },
  {
   "cell_type": "markdown",
   "metadata": {},
   "source": [
    "- 기본 큐 상태"
   ]
  },
  {
   "cell_type": "code",
   "execution_count": null,
   "metadata": {},
   "outputs": [],
   "source": [
    "queue = [None for _ in range(5)]\n",
    "front = rear = -1"
   ]
  },
  {
   "cell_type": "markdown",
   "metadata": {},
   "source": [
    "- enQueue"
   ]
  },
  {
   "cell_type": "code",
   "execution_count": null,
   "metadata": {},
   "outputs": [],
   "source": [
    "rear += 1\n",
    "queue[rear] = '화사'"
   ]
  },
  {
   "cell_type": "code",
   "execution_count": null,
   "metadata": {},
   "outputs": [],
   "source": [
    "rear += 1\n",
    "queue[rear] = '솔라'\n",
    "rear += 1\n",
    "queue[rear] = '문별'"
   ]
  },
  {
   "cell_type": "markdown",
   "metadata": {},
   "source": [
    "- 큐상태 확인"
   ]
  },
  {
   "cell_type": "code",
   "execution_count": null,
   "metadata": {},
   "outputs": [
    {
     "data": {
      "text/plain": [
       "---------- 큐상태 확인 ----------\n",
       "[출구]<-화사<-솔라<-문별<-None<-None<-[입구]\n"
      ]
     },
     "metadata": {},
     "output_type": "display_data"
    }
   ],
   "source": [
    "print('---------- 큐상태 확인 ----------')\n",
    "print('[출구]', end='<-')\n",
    "for i in range(0, len(queue), 1):\n",
    "    print(queue[i], end='<-')\n",
    "\n",
    "print('[입구]')"
   ]
  },
  {
   "cell_type": "code",
   "execution_count": null,
   "metadata": {},
   "outputs": [
    {
     "data": {
      "text/plain": [
       "2\n"
      ]
     },
     "metadata": {},
     "output_type": "display_data"
    }
   ],
   "source": [
    "rear"
   ]
  },
  {
   "cell_type": "markdown",
   "metadata": {},
   "source": [
    "- deQueue"
   ]
  },
  {
   "cell_type": "code",
   "execution_count": null,
   "metadata": {},
   "outputs": [
    {
     "data": {
      "text/plain": [
       "dequeue : 화사\n"
      ]
     },
     "metadata": {},
     "output_type": "display_data"
    }
   ],
   "source": [
    "front += 1\n",
    "data = queue[front]\n",
    "queue[front] = None\n",
    "print(f'dequeue : {data}')"
   ]
  },
  {
   "cell_type": "code",
   "execution_count": null,
   "metadata": {},
   "outputs": [
    {
     "data": {
      "text/plain": [
       "dequeue : 솔라\n"
      ]
     },
     "metadata": {},
     "output_type": "display_data"
    }
   ],
   "source": [
    "front += 1\n",
    "data = queue[front]\n",
    "queue[front] = None\n",
    "print(f'dequeue : {data}')"
   ]
  },
  {
   "cell_type": "code",
   "execution_count": null,
   "metadata": {},
   "outputs": [
    {
     "data": {
      "text/plain": [
       "---------- 큐상태 확인 ----------\n",
       "[출구]<-None<-None<-문별<-None<-None<-[입구]\n"
      ]
     },
     "metadata": {},
     "output_type": "display_data"
    }
   ],
   "source": [
    "print('---------- 큐상태 확인 ----------')\n",
    "print('[출구]', end='<-')\n",
    "for i in range(0, len(queue), 1):\n",
    "    print(queue[i], end='<-')\n",
    "\n",
    "print('[입구]')"
   ]
  },
  {
   "cell_type": "markdown",
   "metadata": {},
   "source": [
    "#### 큐 응용 사례\n",
    "- OS에서 프로세스 스케줄링\n",
    "- 네트워크 데이터 패킷 처리\n",
    "- 프린터 작업 대기열(인쇄풀)\n",
    "- 키보드, 마우스 입력 이벤트 처리(Event Queue)\n",
    "- 메일서버 작업처리"
   ]
  }
 ],
 "metadata": {
  "language_info": {
   "name": "python"
  }
 },
 "nbformat": 4,
 "nbformat_minor": 2
}
